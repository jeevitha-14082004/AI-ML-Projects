{
  "nbformat": 4,
  "nbformat_minor": 0,
  "metadata": {
    "colab": {
      "provenance": [],
      "authorship_tag": "ABX9TyPEo6r6WM+B4UDRH6nU94aI",
      "include_colab_link": true
    },
    "kernelspec": {
      "name": "python3",
      "display_name": "Python 3"
    },
    "language_info": {
      "name": "python"
    }
  },
  "cells": [
    {
      "cell_type": "markdown",
      "metadata": {
        "id": "view-in-github",
        "colab_type": "text"
      },
      "source": [
        "<a href=\"https://colab.research.google.com/github/jeevitha-14082004/AI-ML-Projects/blob/main/Sentiment_Analysis_on_Tweets_.ipynb\" target=\"_parent\"><img src=\"https://colab.research.google.com/assets/colab-badge.svg\" alt=\"Open In Colab\"/></a>"
      ]
    },
    {
      "cell_type": "code",
      "execution_count": 1,
      "metadata": {
        "colab": {
          "base_uri": "https://localhost:8080/"
        },
        "id": "v7vsDj_JiUof",
        "outputId": "633ae73d-4169-43ec-d9ec-fd12ef8d1116"
      },
      "outputs": [
        {
          "output_type": "stream",
          "name": "stderr",
          "text": [
            "[nltk_data] Downloading package stopwords to /root/nltk_data...\n"
          ]
        },
        {
          "output_type": "stream",
          "name": "stdout",
          "text": [
            "Accuracy: 0.5\n",
            "\n",
            "Classification Report:\n",
            "               precision    recall  f1-score   support\n",
            "\n",
            "    negative       0.00      0.00      0.00         1\n",
            "    positive       0.50      1.00      0.67         1\n",
            "\n",
            "    accuracy                           0.50         2\n",
            "   macro avg       0.25      0.50      0.33         2\n",
            "weighted avg       0.25      0.50      0.33         2\n",
            "\n",
            "Sentiment Prediction: positive\n"
          ]
        },
        {
          "output_type": "stream",
          "name": "stderr",
          "text": [
            "[nltk_data]   Unzipping corpora/stopwords.zip.\n",
            "/usr/local/lib/python3.11/dist-packages/sklearn/metrics/_classification.py:1565: UndefinedMetricWarning: Precision is ill-defined and being set to 0.0 in labels with no predicted samples. Use `zero_division` parameter to control this behavior.\n",
            "  _warn_prf(average, modifier, f\"{metric.capitalize()} is\", len(result))\n",
            "/usr/local/lib/python3.11/dist-packages/sklearn/metrics/_classification.py:1565: UndefinedMetricWarning: Precision is ill-defined and being set to 0.0 in labels with no predicted samples. Use `zero_division` parameter to control this behavior.\n",
            "  _warn_prf(average, modifier, f\"{metric.capitalize()} is\", len(result))\n",
            "/usr/local/lib/python3.11/dist-packages/sklearn/metrics/_classification.py:1565: UndefinedMetricWarning: Precision is ill-defined and being set to 0.0 in labels with no predicted samples. Use `zero_division` parameter to control this behavior.\n",
            "  _warn_prf(average, modifier, f\"{metric.capitalize()} is\", len(result))\n"
          ]
        }
      ],
      "source": [
        "# Step 1: Install dependencies (run in Colab)\n",
        "!pip install -q nltk\n",
        "\n",
        "# Step 2: Import libraries\n",
        "import pandas as pd\n",
        "import nltk\n",
        "import string\n",
        "from nltk.corpus import stopwords\n",
        "from sklearn.model_selection import train_test_split\n",
        "from sklearn.feature_extraction.text import CountVectorizer\n",
        "from sklearn.linear_model import LogisticRegression\n",
        "from sklearn.metrics import accuracy_score, classification_report\n",
        "\n",
        "# Step 3: Download stopwords\n",
        "nltk.download('stopwords')\n",
        "\n",
        "# Step 4: Sample dataset (you can replace with a CSV)\n",
        "data = {\n",
        "    'tweet': [\n",
        "        \"I love this product!\",\n",
        "        \"Worst experience ever.\",\n",
        "        \"It was okay, not great\",\n",
        "        \"Absolutely fantastic!\",\n",
        "        \"I hate this.\",\n",
        "        \"This is amazing\",\n",
        "        \"Not bad at all\",\n",
        "        \"Really terrible service\",\n",
        "        \"I'm very happy\",\n",
        "        \"Could be better\"\n",
        "    ],\n",
        "    'sentiment': [\n",
        "        'positive',\n",
        "        'negative',\n",
        "        'neutral',\n",
        "        'positive',\n",
        "        'negative',\n",
        "        'positive',\n",
        "        'neutral',\n",
        "        'negative',\n",
        "        'positive',\n",
        "        'neutral'\n",
        "    ]\n",
        "}\n",
        "\n",
        "df = pd.DataFrame(data)\n",
        "\n",
        "# Step 5: Preprocess tweets\n",
        "stop_words = set(stopwords.words('english'))\n",
        "\n",
        "def clean_text(text):\n",
        "    text = text.lower()\n",
        "    text = ''.join([char for char in text if char not in string.punctuation])\n",
        "    words = text.split()\n",
        "    return ' '.join([word for word in words if word not in stop_words])\n",
        "\n",
        "df['clean_tweet'] = df['tweet'].apply(clean_text)\n",
        "\n",
        "# Step 6: Feature extraction\n",
        "vectorizer = CountVectorizer()\n",
        "X = vectorizer.fit_transform(df['clean_tweet'])\n",
        "y = df['sentiment']\n",
        "\n",
        "# Step 7: Train/Test split\n",
        "X_train, X_test, y_train, y_test = train_test_split(X, y, test_size=0.2, random_state=42)\n",
        "\n",
        "# Step 8: Model training\n",
        "model = LogisticRegression()\n",
        "model.fit(X_train, y_train)\n",
        "\n",
        "# Step 9: Predict\n",
        "y_pred = model.predict(X_test)\n",
        "\n",
        "# Step 10: Evaluation\n",
        "print(\"Accuracy:\", accuracy_score(y_test, y_pred))\n",
        "print(\"\\nClassification Report:\\n\", classification_report(y_test, y_pred))\n",
        "\n",
        "# Step 11: Try new prediction\n",
        "new_tweet = [\"This is the worst ever!\"]\n",
        "new_tweet_clean = [clean_text(tweet) for tweet in new_tweet]\n",
        "new_vector = vectorizer.transform(new_tweet_clean)\n",
        "print(\"Sentiment Prediction:\", model.predict(new_vector)[0])\n"
      ]
    }
  ]
}